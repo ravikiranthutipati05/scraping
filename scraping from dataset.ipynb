{
 "cells": [
  {
   "cell_type": "code",
   "execution_count": 89,
   "id": "29647fec",
   "metadata": {},
   "outputs": [],
   "source": [
    "import requests\n",
    "from bs4 import BeautifulSoup\n",
    "import json\n",
    "import pandas as pd"
   ]
  },
  {
   "cell_type": "code",
   "execution_count": 90,
   "id": "69577d92",
   "metadata": {},
   "outputs": [],
   "source": [
    "data_URL = {'urls':[\n",
    "'https://in.indeed.com/viewjob?jk=80a5b1b028370dad&utm_campaign=google_jobs_apply',\n",
    "'https://www.urbanpro.com/pune/google-analytics-training-teacher-in-hinjewadi/36556587?utm_campaign=google_jobs_apply',\n",
    "'https://in.talent.com/view?id=32eee7a71235&utm_campaign=google_jobs_apply&utm_source=google_jobs_ap'\n",
    "]}"
   ]
  },
  {
   "cell_type": "code",
   "execution_count": 91,
   "id": "e018ebcd",
   "metadata": {},
   "outputs": [],
   "source": [
    "df=pd.DataFrame(data_URL)"
   ]
  },
  {
   "cell_type": "code",
   "execution_count": 92,
   "id": "04908430",
   "metadata": {},
   "outputs": [
    {
     "data": {
      "text/html": [
       "<div>\n",
       "<style scoped>\n",
       "    .dataframe tbody tr th:only-of-type {\n",
       "        vertical-align: middle;\n",
       "    }\n",
       "\n",
       "    .dataframe tbody tr th {\n",
       "        vertical-align: top;\n",
       "    }\n",
       "\n",
       "    .dataframe thead th {\n",
       "        text-align: right;\n",
       "    }\n",
       "</style>\n",
       "<table border=\"1\" class=\"dataframe\">\n",
       "  <thead>\n",
       "    <tr style=\"text-align: right;\">\n",
       "      <th></th>\n",
       "      <th>urls</th>\n",
       "    </tr>\n",
       "  </thead>\n",
       "  <tbody>\n",
       "    <tr>\n",
       "      <th>0</th>\n",
       "      <td>https://in.indeed.com/viewjob?jk=80a5b1b028370...</td>\n",
       "    </tr>\n",
       "    <tr>\n",
       "      <th>1</th>\n",
       "      <td>https://www.urbanpro.com/pune/google-analytics...</td>\n",
       "    </tr>\n",
       "    <tr>\n",
       "      <th>2</th>\n",
       "      <td>https://in.talent.com/view?id=32eee7a71235&amp;utm...</td>\n",
       "    </tr>\n",
       "  </tbody>\n",
       "</table>\n",
       "</div>"
      ],
      "text/plain": [
       "                                                urls\n",
       "0  https://in.indeed.com/viewjob?jk=80a5b1b028370...\n",
       "1  https://www.urbanpro.com/pune/google-analytics...\n",
       "2  https://in.talent.com/view?id=32eee7a71235&utm..."
      ]
     },
     "execution_count": 92,
     "metadata": {},
     "output_type": "execute_result"
    }
   ],
   "source": [
    "df"
   ]
  },
  {
   "cell_type": "code",
   "execution_count": 93,
   "id": "b237531d",
   "metadata": {},
   "outputs": [
    {
     "data": {
      "text/plain": [
       "3"
      ]
     },
     "execution_count": 93,
     "metadata": {},
     "output_type": "execute_result"
    }
   ],
   "source": [
    "len(df)"
   ]
  },
  {
   "cell_type": "code",
   "execution_count": 94,
   "id": "0f443ee3",
   "metadata": {},
   "outputs": [
    {
     "data": {
      "text/plain": [
       "'https://in.indeed.com/viewjob?jk=80a5b1b028370dad&utm_campaign=google_jobs_apply'"
      ]
     },
     "execution_count": 94,
     "metadata": {},
     "output_type": "execute_result"
    }
   ],
   "source": [
    "df['urls'].iloc[0]"
   ]
  },
  {
   "cell_type": "code",
   "execution_count": 95,
   "id": "0858e42b",
   "metadata": {},
   "outputs": [],
   "source": [
    "for i in range(len(df)):\n",
    "    response=requests.get(df['urls'].iloc[i])\n",
    "    html_content=response.text\n"
   ]
  },
  {
   "cell_type": "code",
   "execution_count": 96,
   "id": "8cc886ed",
   "metadata": {},
   "outputs": [
    {
     "data": {
      "text/plain": [
       "<Response [200]>"
      ]
     },
     "execution_count": 96,
     "metadata": {},
     "output_type": "execute_result"
    }
   ],
   "source": [
    "response"
   ]
  },
  {
   "cell_type": "code",
   "execution_count": 97,
   "id": "78a4f318",
   "metadata": {},
   "outputs": [],
   "source": [
    "soup=BeautifulSoup(html_content,\"html.parser\")\n",
    "a = soup.find_all('script', {'type': 'application/ld+json'}, recursive=True)\n"
   ]
  },
  {
   "cell_type": "code",
   "execution_count": 98,
   "id": "02ee751c",
   "metadata": {},
   "outputs": [
    {
     "data": {
      "text/plain": [
       "[<script type=\"application/ld+json\">\n",
       "             {\"@context\":\"https:\\/\\/schema.org\\/\",\"@type\":\"JobPosting\",\"title\":\"Google Cloud Platform (GCP) Architect\",\"description\":\"\\n<p><\\/p>\\n<p>About Position<\\/p>\\n<p>We are looking for an innovative Google Cloud Platform (GCP) Architect.<\\/p>\\n<p><u>Job Location :<\\/u> Mumbai and Bangalore (From Client Office)<\\/p>\\n<p><u>Job Reference ID :<\\/u> 2489297<\\/p>\\n<p><b>What you\\u2019ll do<\\/b><\\/p>\\n<ul>\\n<li>Experience with Docker, and Kubernetes.<\\/li>\\n<li>Client handle<\\/li>\\n<li>Efficiently Understand the business vision and align deliverables and planning towards it.<\\/li>\\n<li>Manage code deployments, fixes, updates, and related processes.<\\/li>\\n<li>Provide Cloud performance reviews, Cost analysis, benchmarking against Cloud best practices.<\\/li>\\n<li>Help maintain a cloud program-level repository of architecture assets and promote reuse across the enterprise<\\/li>\\n<li>Ability to drive engagements in Cloud Strategy, Cloud operating model and Cloud capability review. Specializing in GCP<\\/li>\\n<li>Present to all the relevant stakeholders on the capabilities of the architecture solutions<\\/li>\\n<li>Maximize the use of cloud automation use of existing capabilities and frameworks written in Terraform<\\/li>\\n<li>Stay current on, evaluate, and recommend the use of cutting-edge technologies and methods, considering their technical pros and limitations<\\/li>\\n<li>Ability to guide and mentor development teams on cloud design principles, best practices in API based and Micro Services.<\\/li>\\n<li>Substantial knowledge of the system development life cycle and the Agile methodology.<\\/li>\\n<\\/ul>\\n<p><b>Expertise you\\u2019ll bring<\\/b><\\/p>\\n<ul>\\n<li>Good understanding of Enterprise Networks, Cloud Security, Access Management & NFRs<\\/li>\\n<li>Good experience with containerization, Kubernetes, GKE etc.<\\/li>\\n<li>Experience in designing & implementing, observability & monitoring on cloud<\\/li>\\n<li>Translate cloud migration program objectives into an end-to-end roadmap, design and develop, in collaboration with numerous SMEs, introductory and final technical plans and blueprints<\\/li>\\n<li>Create comprehensive solution architecture specification documents and other required documentation<\\/li>\\n<li>Align with and adhere to global governance processes and tools while maintaining a key focus on design patterns and technology standards<\\/li>\\n<li>Work closely with project managers and delivery leads to identify key design activities and owners while ensuring alignment and feasibility<\\/li>\\n<li>Support infrastructure teams in build out, availability, performance, reliability and ensure that all non-functional system requirements are defined and met<\\/li>\\n<li>Support evolution of architecture blueprints & reference models and facilitate their enablement and adoption within the enterprise.<\\/li>\\n<li>Good understanding of Cloud vulnerabilities assessments. Research security enhancements and make recommendations to management.<\\/li>\\n<li>13-15 years of IT experience and 5+ years GCP architecture experience.<\\/li>\\n<li>Experience in end-to-end solution design using GCP services (GKE, Cloud Run, datastore, storage, dataflow, cloud tasks, Cloud functions, pub-sub, cloud scheduler, Stackdriver Cloud monitoring etc.<\\/li>\\n<\\/ul>\\n<p><b>Kubernetes containerization.<\\/b><\\/p>\\n<ul>\\n<li>Expertise in DevOps Automation and Jenkins pipeline Deployments<\\/li>\\n<li>Disaster Recovery setup Expertise<\\/li>\\n<li>Expertise in Cloud Monitoring (application Errors, application Performance, cloud cost etc.)<\\/li>\\n<li>Good experience in working with APIs & API Governance<\\/li>\\n<li>Good to have knowledge of Terraform \\/ Google Deployment Manager.<\\/li>\\n<li>Good knowledge of Kubernetes \\/ GKE<\\/li>\\n<li>Good knowledge of Cloud security<\\/li>\\n<li>Exceptional analytical and critical thinking skills, with thorough attention to detail. Excellent planning, documentation, and problem-solving skills.<\\/li>\\n<li>Strong knowledge of contemporary technologies and business trends that allows architecture to solve problems in a creative and cost-effective manner.<\\/li>\\n<li>Excellent communication and interpersonal and consultative skills to work effectively with vendors, clients, peers, and IT management.<\\/li>\\n<\\/ul>\\n<p><b>Benefits<\\/b><\\/p>\\n<ul>\\n<li>Competitive salary and benefits package<\\/li>\\n<li>Culture focused on talent development with quarterly promotion cycles and company-sponsored higher education and certifications<\\/li>\\n<li>Opportunity to work with cutting-edge technologies<\\/li>\\n<li>Employee engagement initiatives such as project parties, flexi work hours, and Long Service\\u2019 awards<\\/li>\\n<li>Annual health check-ups as well as insurance :<\\/li>\\n<li>Group term life insurance<\\/li>\\n<li>Personal accident insurance<\\/li>\\n<li>Mediclaim hospitalization insurance for self, spouse, two children, and parents<\\/li>\\n<\\/ul>\\n<p>Our company fosters a values-driven and people centric work environment that enables our employees to :<\\/p>\\n<ul>\\n<li>Accelerate growth, both professionally and personally<\\/li>\\n<li>Impact the world in powerful, positive ways, using the latest technologies<\\/li>\\n<li>Enjoy collaborative innovation, with diversity and work-life wellbeing at the core<\\/li>\\n<li>Unlock global opportunities to work and learn with the industry\\u2019s best<\\/li>\\n<\\/ul>\\n<p>Let's unleash your full potential. See Beyond, Rise Above<\\/p>\",\"url\":\"in.talent.com\\/view?id=32eee7a71235&utm_campaign=google_jobs_apply&utm_source=google_jobs_ap\",\"occupationalCategory\":\"15-1243.00\",\"industry\":\"Database and Network Administrators and Architects\",\"identifier\":{\"@type\":\"PropertyValue\",\"name\":\"Persistent Systems\",\"value\":\"32eee7a71235\"},\"hiringOrganization\":{\"@type\":\"Organization\",\"name\":\"Persistent Systems\",\"logo\":\"https:\\/\\/cdn-dynamic.talent.com\\/ajax\\/img\\/get-logo.php?empcode=clickcast-appcast-li-in-cpc&empname=Persistent Systems&v=023\"},\"jobLocation\":{\"@type\":\"Place\",\"address\":{\"@type\":\"PostalAddress\",\"addressCountry\":\"in\",\"addressRegion\":\"Maharashtra\",\"addressLocality\":\"Mumbai\"},\"geo\":{\"@type\":\"GeoCoordinates\",\"longitude\":72.8776559,\"latitude\":19.0759837}},\"datePosted\":\"2023-06-22\",\"validThrough\":\"2023-09-20\",\"employmentType\":\"FULL_TIME\",\"experienceRequirements\":{\"@type\":\"OccupationalExperienceRequirements\",\"monthsOfExperience\":156}}        </script>,\n",
       " <script type=\"application/ld+json\">\n",
       "         { \"@context\" : \"http://schema.org\",\n",
       "             \"@type\" : \"Organization\",\n",
       "             \"name\" : \"Talent.com\",\n",
       "             \"url\" : \"https://in.talent.com/\",\n",
       "             \"logo\" : \"https://cdn-static.talent.com/img/common/talent_logo_purple_220.png\"\n",
       "         }\n",
       "     </script>]"
      ]
     },
     "execution_count": 98,
     "metadata": {},
     "output_type": "execute_result"
    }
   ],
   "source": [
    "a"
   ]
  },
  {
   "cell_type": "code",
   "execution_count": 99,
   "id": "00d65e6d",
   "metadata": {},
   "outputs": [
    {
     "name": "stdout",
     "output_type": "stream",
     "text": [
      "i::   <script type=\"application/ld+json\">\n",
      "            {\"@context\":\"https:\\/\\/schema.org\\/\",\"@type\":\"JobPosting\",\"title\":\"Google Cloud Platform (GCP) Architect\",\"description\":\"\\n<p><\\/p>\\n<p>About Position<\\/p>\\n<p>We are looking for an innovative Google Cloud Platform (GCP) Architect.<\\/p>\\n<p><u>Job Location :<\\/u> Mumbai and Bangalore (From Client Office)<\\/p>\\n<p><u>Job Reference ID :<\\/u> 2489297<\\/p>\\n<p><b>What you\\u2019ll do<\\/b><\\/p>\\n<ul>\\n<li>Experience with Docker, and Kubernetes.<\\/li>\\n<li>Client handle<\\/li>\\n<li>Efficiently Understand the business vision and align deliverables and planning towards it.<\\/li>\\n<li>Manage code deployments, fixes, updates, and related processes.<\\/li>\\n<li>Provide Cloud performance reviews, Cost analysis, benchmarking against Cloud best practices.<\\/li>\\n<li>Help maintain a cloud program-level repository of architecture assets and promote reuse across the enterprise<\\/li>\\n<li>Ability to drive engagements in Cloud Strategy, Cloud operating model and Cloud capability review. Specializing in GCP<\\/li>\\n<li>Present to all the relevant stakeholders on the capabilities of the architecture solutions<\\/li>\\n<li>Maximize the use of cloud automation use of existing capabilities and frameworks written in Terraform<\\/li>\\n<li>Stay current on, evaluate, and recommend the use of cutting-edge technologies and methods, considering their technical pros and limitations<\\/li>\\n<li>Ability to guide and mentor development teams on cloud design principles, best practices in API based and Micro Services.<\\/li>\\n<li>Substantial knowledge of the system development life cycle and the Agile methodology.<\\/li>\\n<\\/ul>\\n<p><b>Expertise you\\u2019ll bring<\\/b><\\/p>\\n<ul>\\n<li>Good understanding of Enterprise Networks, Cloud Security, Access Management & NFRs<\\/li>\\n<li>Good experience with containerization, Kubernetes, GKE etc.<\\/li>\\n<li>Experience in designing & implementing, observability & monitoring on cloud<\\/li>\\n<li>Translate cloud migration program objectives into an end-to-end roadmap, design and develop, in collaboration with numerous SMEs, introductory and final technical plans and blueprints<\\/li>\\n<li>Create comprehensive solution architecture specification documents and other required documentation<\\/li>\\n<li>Align with and adhere to global governance processes and tools while maintaining a key focus on design patterns and technology standards<\\/li>\\n<li>Work closely with project managers and delivery leads to identify key design activities and owners while ensuring alignment and feasibility<\\/li>\\n<li>Support infrastructure teams in build out, availability, performance, reliability and ensure that all non-functional system requirements are defined and met<\\/li>\\n<li>Support evolution of architecture blueprints & reference models and facilitate their enablement and adoption within the enterprise.<\\/li>\\n<li>Good understanding of Cloud vulnerabilities assessments. Research security enhancements and make recommendations to management.<\\/li>\\n<li>13-15 years of IT experience and 5+ years GCP architecture experience.<\\/li>\\n<li>Experience in end-to-end solution design using GCP services (GKE, Cloud Run, datastore, storage, dataflow, cloud tasks, Cloud functions, pub-sub, cloud scheduler, Stackdriver Cloud monitoring etc.<\\/li>\\n<\\/ul>\\n<p><b>Kubernetes containerization.<\\/b><\\/p>\\n<ul>\\n<li>Expertise in DevOps Automation and Jenkins pipeline Deployments<\\/li>\\n<li>Disaster Recovery setup Expertise<\\/li>\\n<li>Expertise in Cloud Monitoring (application Errors, application Performance, cloud cost etc.)<\\/li>\\n<li>Good experience in working with APIs & API Governance<\\/li>\\n<li>Good to have knowledge of Terraform \\/ Google Deployment Manager.<\\/li>\\n<li>Good knowledge of Kubernetes \\/ GKE<\\/li>\\n<li>Good knowledge of Cloud security<\\/li>\\n<li>Exceptional analytical and critical thinking skills, with thorough attention to detail. Excellent planning, documentation, and problem-solving skills.<\\/li>\\n<li>Strong knowledge of contemporary technologies and business trends that allows architecture to solve problems in a creative and cost-effective manner.<\\/li>\\n<li>Excellent communication and interpersonal and consultative skills to work effectively with vendors, clients, peers, and IT management.<\\/li>\\n<\\/ul>\\n<p><b>Benefits<\\/b><\\/p>\\n<ul>\\n<li>Competitive salary and benefits package<\\/li>\\n<li>Culture focused on talent development with quarterly promotion cycles and company-sponsored higher education and certifications<\\/li>\\n<li>Opportunity to work with cutting-edge technologies<\\/li>\\n<li>Employee engagement initiatives such as project parties, flexi work hours, and Long Service\\u2019 awards<\\/li>\\n<li>Annual health check-ups as well as insurance :<\\/li>\\n<li>Group term life insurance<\\/li>\\n<li>Personal accident insurance<\\/li>\\n<li>Mediclaim hospitalization insurance for self, spouse, two children, and parents<\\/li>\\n<\\/ul>\\n<p>Our company fosters a values-driven and people centric work environment that enables our employees to :<\\/p>\\n<ul>\\n<li>Accelerate growth, both professionally and personally<\\/li>\\n<li>Impact the world in powerful, positive ways, using the latest technologies<\\/li>\\n<li>Enjoy collaborative innovation, with diversity and work-life wellbeing at the core<\\/li>\\n<li>Unlock global opportunities to work and learn with the industry\\u2019s best<\\/li>\\n<\\/ul>\\n<p>Let's unleash your full potential. See Beyond, Rise Above<\\/p>\",\"url\":\"in.talent.com\\/view?id=32eee7a71235&utm_campaign=google_jobs_apply&utm_source=google_jobs_ap\",\"occupationalCategory\":\"15-1243.00\",\"industry\":\"Database and Network Administrators and Architects\",\"identifier\":{\"@type\":\"PropertyValue\",\"name\":\"Persistent Systems\",\"value\":\"32eee7a71235\"},\"hiringOrganization\":{\"@type\":\"Organization\",\"name\":\"Persistent Systems\",\"logo\":\"https:\\/\\/cdn-dynamic.talent.com\\/ajax\\/img\\/get-logo.php?empcode=clickcast-appcast-li-in-cpc&empname=Persistent Systems&v=023\"},\"jobLocation\":{\"@type\":\"Place\",\"address\":{\"@type\":\"PostalAddress\",\"addressCountry\":\"in\",\"addressRegion\":\"Maharashtra\",\"addressLocality\":\"Mumbai\"},\"geo\":{\"@type\":\"GeoCoordinates\",\"longitude\":72.8776559,\"latitude\":19.0759837}},\"datePosted\":\"2023-06-22\",\"validThrough\":\"2023-09-20\",\"employmentType\":\"FULL_TIME\",\"experienceRequirements\":{\"@type\":\"OccupationalExperienceRequirements\",\"monthsOfExperience\":156}}        </script>\n",
      "i::   <script type=\"application/ld+json\">\n",
      "        { \"@context\" : \"http://schema.org\",\n",
      "            \"@type\" : \"Organization\",\n",
      "            \"name\" : \"Talent.com\",\n",
      "            \"url\" : \"https://in.talent.com/\",\n",
      "            \"logo\" : \"https://cdn-static.talent.com/img/common/talent_logo_purple_220.png\"\n",
      "        }\n",
      "    </script>\n"
     ]
    }
   ],
   "source": [
    "data = []\n",
    "for i in a:\n",
    "    print(\"i::  \",i)\n",
    "    data.append(json.loads(i.string,strict=False))"
   ]
  },
  {
   "cell_type": "code",
   "execution_count": 100,
   "id": "f7e6bfb9",
   "metadata": {},
   "outputs": [
    {
     "data": {
      "text/plain": [
       "{'@context': 'https://schema.org/',\n",
       " '@type': 'JobPosting',\n",
       " 'title': 'Google Cloud Platform (GCP) Architect',\n",
       " 'description': \"\\n<p></p>\\n<p>About Position</p>\\n<p>We are looking for an innovative Google Cloud Platform (GCP) Architect.</p>\\n<p><u>Job Location :</u> Mumbai and Bangalore (From Client Office)</p>\\n<p><u>Job Reference ID :</u> 2489297</p>\\n<p><b>What you’ll do</b></p>\\n<ul>\\n<li>Experience with Docker, and Kubernetes.</li>\\n<li>Client handle</li>\\n<li>Efficiently Understand the business vision and align deliverables and planning towards it.</li>\\n<li>Manage code deployments, fixes, updates, and related processes.</li>\\n<li>Provide Cloud performance reviews, Cost analysis, benchmarking against Cloud best practices.</li>\\n<li>Help maintain a cloud program-level repository of architecture assets and promote reuse across the enterprise</li>\\n<li>Ability to drive engagements in Cloud Strategy, Cloud operating model and Cloud capability review. Specializing in GCP</li>\\n<li>Present to all the relevant stakeholders on the capabilities of the architecture solutions</li>\\n<li>Maximize the use of cloud automation use of existing capabilities and frameworks written in Terraform</li>\\n<li>Stay current on, evaluate, and recommend the use of cutting-edge technologies and methods, considering their technical pros and limitations</li>\\n<li>Ability to guide and mentor development teams on cloud design principles, best practices in API based and Micro Services.</li>\\n<li>Substantial knowledge of the system development life cycle and the Agile methodology.</li>\\n</ul>\\n<p><b>Expertise you’ll bring</b></p>\\n<ul>\\n<li>Good understanding of Enterprise Networks, Cloud Security, Access Management & NFRs</li>\\n<li>Good experience with containerization, Kubernetes, GKE etc.</li>\\n<li>Experience in designing & implementing, observability & monitoring on cloud</li>\\n<li>Translate cloud migration program objectives into an end-to-end roadmap, design and develop, in collaboration with numerous SMEs, introductory and final technical plans and blueprints</li>\\n<li>Create comprehensive solution architecture specification documents and other required documentation</li>\\n<li>Align with and adhere to global governance processes and tools while maintaining a key focus on design patterns and technology standards</li>\\n<li>Work closely with project managers and delivery leads to identify key design activities and owners while ensuring alignment and feasibility</li>\\n<li>Support infrastructure teams in build out, availability, performance, reliability and ensure that all non-functional system requirements are defined and met</li>\\n<li>Support evolution of architecture blueprints & reference models and facilitate their enablement and adoption within the enterprise.</li>\\n<li>Good understanding of Cloud vulnerabilities assessments. Research security enhancements and make recommendations to management.</li>\\n<li>13-15 years of IT experience and 5+ years GCP architecture experience.</li>\\n<li>Experience in end-to-end solution design using GCP services (GKE, Cloud Run, datastore, storage, dataflow, cloud tasks, Cloud functions, pub-sub, cloud scheduler, Stackdriver Cloud monitoring etc.</li>\\n</ul>\\n<p><b>Kubernetes containerization.</b></p>\\n<ul>\\n<li>Expertise in DevOps Automation and Jenkins pipeline Deployments</li>\\n<li>Disaster Recovery setup Expertise</li>\\n<li>Expertise in Cloud Monitoring (application Errors, application Performance, cloud cost etc.)</li>\\n<li>Good experience in working with APIs & API Governance</li>\\n<li>Good to have knowledge of Terraform / Google Deployment Manager.</li>\\n<li>Good knowledge of Kubernetes / GKE</li>\\n<li>Good knowledge of Cloud security</li>\\n<li>Exceptional analytical and critical thinking skills, with thorough attention to detail. Excellent planning, documentation, and problem-solving skills.</li>\\n<li>Strong knowledge of contemporary technologies and business trends that allows architecture to solve problems in a creative and cost-effective manner.</li>\\n<li>Excellent communication and interpersonal and consultative skills to work effectively with vendors, clients, peers, and IT management.</li>\\n</ul>\\n<p><b>Benefits</b></p>\\n<ul>\\n<li>Competitive salary and benefits package</li>\\n<li>Culture focused on talent development with quarterly promotion cycles and company-sponsored higher education and certifications</li>\\n<li>Opportunity to work with cutting-edge technologies</li>\\n<li>Employee engagement initiatives such as project parties, flexi work hours, and Long Service’ awards</li>\\n<li>Annual health check-ups as well as insurance :</li>\\n<li>Group term life insurance</li>\\n<li>Personal accident insurance</li>\\n<li>Mediclaim hospitalization insurance for self, spouse, two children, and parents</li>\\n</ul>\\n<p>Our company fosters a values-driven and people centric work environment that enables our employees to :</p>\\n<ul>\\n<li>Accelerate growth, both professionally and personally</li>\\n<li>Impact the world in powerful, positive ways, using the latest technologies</li>\\n<li>Enjoy collaborative innovation, with diversity and work-life wellbeing at the core</li>\\n<li>Unlock global opportunities to work and learn with the industry’s best</li>\\n</ul>\\n<p>Let's unleash your full potential. See Beyond, Rise Above</p>\",\n",
       " 'url': 'in.talent.com/view?id=32eee7a71235&utm_campaign=google_jobs_apply&utm_source=google_jobs_ap',\n",
       " 'occupationalCategory': '15-1243.00',\n",
       " 'industry': 'Database and Network Administrators and Architects',\n",
       " 'identifier': {'@type': 'PropertyValue',\n",
       "  'name': 'Persistent Systems',\n",
       "  'value': '32eee7a71235'},\n",
       " 'hiringOrganization': {'@type': 'Organization',\n",
       "  'name': 'Persistent Systems',\n",
       "  'logo': 'https://cdn-dynamic.talent.com/ajax/img/get-logo.php?empcode=clickcast-appcast-li-in-cpc&empname=Persistent Systems&v=023'},\n",
       " 'jobLocation': {'@type': 'Place',\n",
       "  'address': {'@type': 'PostalAddress',\n",
       "   'addressCountry': 'in',\n",
       "   'addressRegion': 'Maharashtra',\n",
       "   'addressLocality': 'Mumbai'},\n",
       "  'geo': {'@type': 'GeoCoordinates',\n",
       "   'longitude': 72.8776559,\n",
       "   'latitude': 19.0759837}},\n",
       " 'datePosted': '2023-06-22',\n",
       " 'validThrough': '2023-09-20',\n",
       " 'employmentType': 'FULL_TIME',\n",
       " 'experienceRequirements': {'@type': 'OccupationalExperienceRequirements',\n",
       "  'monthsOfExperience': 156}}"
      ]
     },
     "execution_count": 100,
     "metadata": {},
     "output_type": "execute_result"
    }
   ],
   "source": [
    "data[0]"
   ]
  },
  {
   "cell_type": "code",
   "execution_count": null,
   "id": "6697d238",
   "metadata": {},
   "outputs": [],
   "source": []
  }
 ],
 "metadata": {
  "kernelspec": {
   "display_name": "Python 3 (ipykernel)",
   "language": "python",
   "name": "python3"
  },
  "language_info": {
   "codemirror_mode": {
    "name": "ipython",
    "version": 3
   },
   "file_extension": ".py",
   "mimetype": "text/x-python",
   "name": "python",
   "nbconvert_exporter": "python",
   "pygments_lexer": "ipython3",
   "version": "3.10.9"
  }
 },
 "nbformat": 4,
 "nbformat_minor": 5
}
